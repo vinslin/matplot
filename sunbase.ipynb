{
 "cells": [
  {
   "cell_type": "code",
   "execution_count": 1,
   "id": "181a2fbe",
   "metadata": {},
   "outputs": [],
   "source": [
    "\n",
    "import numpy as np\n",
    "import pandas as pd"
   ]
  },
  {
   "cell_type": "code",
   "execution_count": 2,
   "id": "3ffca97c",
   "metadata": {},
   "outputs": [],
   "source": [
    "df=pd.read_excel(\"D:/kaggle/sunbase/customer_churn_large_dataset.xlsx\")"
   ]
  },
  {
   "cell_type": "code",
   "execution_count": 3,
   "id": "ffcb2578",
   "metadata": {},
   "outputs": [
    {
     "name": "stdout",
     "output_type": "stream",
     "text": [
      "CustomerID                      int64\n",
      "Name                           object\n",
      "Age                             int64\n",
      "Gender                         object\n",
      "Location                       object\n",
      "Subscription_Length_Months      int64\n",
      "Monthly_Bill                  float64\n",
      "Total_Usage_GB                  int64\n",
      "Churn                           int64\n",
      "dtype: object\n"
     ]
    }
   ],
   "source": [
    "#df.describe\n",
    "print(df.dtypes)\n"
   ]
  },
  {
   "cell_type": "code",
   "execution_count": 4,
   "id": "464667ff",
   "metadata": {},
   "outputs": [
    {
     "name": "stdout",
     "output_type": "stream",
     "text": [
      "CustomerID                      int64\n",
      "Name                           object\n",
      "Age                             int64\n",
      "Gender                         object\n",
      "Location                       object\n",
      "Subscription_Length_Months      int32\n",
      "Monthly_Bill                  float64\n",
      "Total_Usage_GB                  int64\n",
      "Churn                           int64\n",
      "dtype: object\n"
     ]
    }
   ],
   "source": [
    "df['Subscription_Length_Months'] = df['Subscription_Length_Months'].astype(int)\n",
    "df['Gender'] = df['Gender'].apply(str)\n",
    "df['Gender'] = df['Gender'].apply(lambda x: str(x) if isinstance(x, str) else pd.NA)\n",
    "df['Location'] = df['Location'].apply(str)\n",
    "print(df.dtypes)"
   ]
  },
  {
   "cell_type": "code",
   "execution_count": 5,
   "id": "3e688168",
   "metadata": {},
   "outputs": [],
   "source": [
    "#i try this area to the empty cell clear function but there is no empty cells i found in the df\n",
    "#then lets do the analysis\n"
   ]
  },
  {
   "cell_type": "code",
   "execution_count": 6,
   "id": "7a37026b",
   "metadata": {},
   "outputs": [
    {
     "data": {
      "text/html": [
       "<div>\n",
       "<style scoped>\n",
       "    .dataframe tbody tr th:only-of-type {\n",
       "        vertical-align: middle;\n",
       "    }\n",
       "\n",
       "    .dataframe tbody tr th {\n",
       "        vertical-align: top;\n",
       "    }\n",
       "\n",
       "    .dataframe thead th {\n",
       "        text-align: right;\n",
       "    }\n",
       "</style>\n",
       "<table border=\"1\" class=\"dataframe\">\n",
       "  <thead>\n",
       "    <tr style=\"text-align: right;\">\n",
       "      <th></th>\n",
       "      <th>Age</th>\n",
       "      <th>Subscription_Length_Months</th>\n",
       "      <th>Location</th>\n",
       "      <th>Gender</th>\n",
       "      <th>Monthly_Bill</th>\n",
       "    </tr>\n",
       "  </thead>\n",
       "  <tbody>\n",
       "    <tr>\n",
       "      <th>0</th>\n",
       "      <td>63</td>\n",
       "      <td>17</td>\n",
       "      <td>Los Angeles</td>\n",
       "      <td>Male</td>\n",
       "      <td>73.36</td>\n",
       "    </tr>\n",
       "    <tr>\n",
       "      <th>1</th>\n",
       "      <td>62</td>\n",
       "      <td>1</td>\n",
       "      <td>New York</td>\n",
       "      <td>Female</td>\n",
       "      <td>48.76</td>\n",
       "    </tr>\n",
       "    <tr>\n",
       "      <th>2</th>\n",
       "      <td>24</td>\n",
       "      <td>5</td>\n",
       "      <td>Los Angeles</td>\n",
       "      <td>Female</td>\n",
       "      <td>85.47</td>\n",
       "    </tr>\n",
       "    <tr>\n",
       "      <th>3</th>\n",
       "      <td>36</td>\n",
       "      <td>3</td>\n",
       "      <td>Miami</td>\n",
       "      <td>Female</td>\n",
       "      <td>97.94</td>\n",
       "    </tr>\n",
       "    <tr>\n",
       "      <th>4</th>\n",
       "      <td>46</td>\n",
       "      <td>19</td>\n",
       "      <td>Miami</td>\n",
       "      <td>Female</td>\n",
       "      <td>58.14</td>\n",
       "    </tr>\n",
       "    <tr>\n",
       "      <th>...</th>\n",
       "      <td>...</td>\n",
       "      <td>...</td>\n",
       "      <td>...</td>\n",
       "      <td>...</td>\n",
       "      <td>...</td>\n",
       "    </tr>\n",
       "    <tr>\n",
       "      <th>99995</th>\n",
       "      <td>33</td>\n",
       "      <td>23</td>\n",
       "      <td>Houston</td>\n",
       "      <td>Male</td>\n",
       "      <td>55.13</td>\n",
       "    </tr>\n",
       "    <tr>\n",
       "      <th>99996</th>\n",
       "      <td>62</td>\n",
       "      <td>19</td>\n",
       "      <td>New York</td>\n",
       "      <td>Female</td>\n",
       "      <td>61.65</td>\n",
       "    </tr>\n",
       "    <tr>\n",
       "      <th>99997</th>\n",
       "      <td>64</td>\n",
       "      <td>17</td>\n",
       "      <td>Chicago</td>\n",
       "      <td>Male</td>\n",
       "      <td>96.11</td>\n",
       "    </tr>\n",
       "    <tr>\n",
       "      <th>99998</th>\n",
       "      <td>51</td>\n",
       "      <td>20</td>\n",
       "      <td>New York</td>\n",
       "      <td>Female</td>\n",
       "      <td>49.25</td>\n",
       "    </tr>\n",
       "    <tr>\n",
       "      <th>99999</th>\n",
       "      <td>27</td>\n",
       "      <td>19</td>\n",
       "      <td>Los Angeles</td>\n",
       "      <td>Female</td>\n",
       "      <td>76.57</td>\n",
       "    </tr>\n",
       "  </tbody>\n",
       "</table>\n",
       "<p>100000 rows × 5 columns</p>\n",
       "</div>"
      ],
      "text/plain": [
       "       Age  Subscription_Length_Months     Location  Gender  Monthly_Bill\n",
       "0       63                          17  Los Angeles    Male         73.36\n",
       "1       62                           1     New York  Female         48.76\n",
       "2       24                           5  Los Angeles  Female         85.47\n",
       "3       36                           3        Miami  Female         97.94\n",
       "4       46                          19        Miami  Female         58.14\n",
       "...    ...                         ...          ...     ...           ...\n",
       "99995   33                          23      Houston    Male         55.13\n",
       "99996   62                          19     New York  Female         61.65\n",
       "99997   64                          17      Chicago    Male         96.11\n",
       "99998   51                          20     New York  Female         49.25\n",
       "99999   27                          19  Los Angeles  Female         76.57\n",
       "\n",
       "[100000 rows x 5 columns]"
      ]
     },
     "execution_count": 6,
     "metadata": {},
     "output_type": "execute_result"
    }
   ],
   "source": [
    "dfnew=df[['Age','Subscription_Length_Months','Location','Gender','Monthly_Bill']]\n",
    "y=df[['Churn']]\n",
    "dfnew"
   ]
  },
  {
   "cell_type": "code",
   "execution_count": 7,
   "id": "9b83fc41",
   "metadata": {},
   "outputs": [],
   "source": [
    "from sklearn.preprocessing import LabelEncoder\n",
    "label_encoder = LabelEncoder()\n",
    "label_encoder1 = LabelEncoder()\n"
   ]
  },
  {
   "cell_type": "code",
   "execution_count": 8,
   "id": "4c20a726",
   "metadata": {},
   "outputs": [
    {
     "name": "stderr",
     "output_type": "stream",
     "text": [
      "C:\\Users\\ELCOT\\AppData\\Local\\Temp\\ipykernel_10512\\2144656344.py:1: SettingWithCopyWarning: \n",
      "A value is trying to be set on a copy of a slice from a DataFrame.\n",
      "Try using .loc[row_indexer,col_indexer] = value instead\n",
      "\n",
      "See the caveats in the documentation: https://pandas.pydata.org/pandas-docs/stable/user_guide/indexing.html#returning-a-view-versus-a-copy\n",
      "  dfnew['Location_n'] = label_encoder.fit_transform(dfnew['Location'])\n",
      "C:\\Users\\ELCOT\\AppData\\Local\\Temp\\ipykernel_10512\\2144656344.py:2: SettingWithCopyWarning: \n",
      "A value is trying to be set on a copy of a slice from a DataFrame.\n",
      "Try using .loc[row_indexer,col_indexer] = value instead\n",
      "\n",
      "See the caveats in the documentation: https://pandas.pydata.org/pandas-docs/stable/user_guide/indexing.html#returning-a-view-versus-a-copy\n",
      "  dfnew['Gender_n'] = label_encoder1.fit_transform(dfnew['Gender'])\n"
     ]
    }
   ],
   "source": [
    "dfnew['Location_n'] = label_encoder.fit_transform(dfnew['Location'])\n",
    "dfnew['Gender_n'] = label_encoder1.fit_transform(dfnew['Gender'])\n"
   ]
  },
  {
   "cell_type": "code",
   "execution_count": 9,
   "id": "5937127b",
   "metadata": {},
   "outputs": [],
   "source": [
    "inputs_n = dfnew.drop(['Location','Gender'],axis='columns')"
   ]
  },
  {
   "cell_type": "code",
   "execution_count": 10,
   "id": "ffc432bc",
   "metadata": {},
   "outputs": [],
   "source": [
    "\n",
    "from sklearn.preprocessing import MinMaxScaler\n",
    "scaler = MinMaxScaler()\n",
    "\n",
    "# Fit and transform the DataFrame using the scaler\n",
    "df_scaled = pd.DataFrame(scaler.fit_transform(inputs_n), columns=inputs_n.columns)\n"
   ]
  },
  {
   "cell_type": "code",
   "execution_count": 11,
   "id": "f2f90137",
   "metadata": {},
   "outputs": [],
   "source": [
    "from sklearn.model_selection import train_test_split\n",
    "X_train, X_test, y_train, y_test = train_test_split(df_scaled, y, test_size=0.25)\n"
   ]
  },
  {
   "cell_type": "code",
   "execution_count": 12,
   "id": "06813058",
   "metadata": {},
   "outputs": [],
   "source": [
    "from sklearn.ensemble import RandomForestClassifier\n",
    "\n",
    "random_forest = RandomForestClassifier(n_estimators=10, random_state=42)"
   ]
  },
  {
   "cell_type": "code",
   "execution_count": 13,
   "id": "e030e7b2",
   "metadata": {},
   "outputs": [
    {
     "name": "stderr",
     "output_type": "stream",
     "text": [
      "C:\\Users\\ELCOT\\AppData\\Local\\Temp\\ipykernel_10512\\584113877.py:1: DataConversionWarning: A column-vector y was passed when a 1d array was expected. Please change the shape of y to (n_samples,), for example using ravel().\n",
      "  random_forest.fit(X_train, y_train)\n"
     ]
    }
   ],
   "source": [
    "random_forest.fit(X_train, y_train)\n",
    "\n",
    "# Make predictions on the testing data\n",
    "y_pred = random_forest.predict(X_test)\n"
   ]
  },
  {
   "cell_type": "code",
   "execution_count": null,
   "id": "83aa76c6",
   "metadata": {},
   "outputs": [],
   "source": []
  },
  {
   "cell_type": "code",
   "execution_count": 14,
   "id": "2faae854",
   "metadata": {},
   "outputs": [],
   "source": [
    "from sklearn.metrics import accuracy_score"
   ]
  },
  {
   "cell_type": "code",
   "execution_count": 15,
   "id": "1516ed24",
   "metadata": {},
   "outputs": [
    {
     "name": "stdout",
     "output_type": "stream",
     "text": [
      "Accuracy: 0.49688\n"
     ]
    }
   ],
   "source": [
    "accuracy = accuracy_score(y_test, y_pred)\n",
    "print(\"Accuracy:\", accuracy)"
   ]
  },
  {
   "cell_type": "code",
   "execution_count": null,
   "id": "59d2a714",
   "metadata": {},
   "outputs": [],
   "source": []
  },
  {
   "cell_type": "code",
   "execution_count": 16,
   "id": "7635fcae",
   "metadata": {},
   "outputs": [],
   "source": [
    "from sklearn.svm import SVC\n",
    "svm_classifier = SVC(kernel='linear', C=1)"
   ]
  },
  {
   "cell_type": "code",
   "execution_count": null,
   "id": "78a8a58a",
   "metadata": {},
   "outputs": [
    {
     "name": "stderr",
     "output_type": "stream",
     "text": [
      "C:\\Users\\ELCOT\\anaconda3\\lib\\site-packages\\sklearn\\utils\\validation.py:993: DataConversionWarning: A column-vector y was passed when a 1d array was expected. Please change the shape of y to (n_samples, ), for example using ravel().\n",
      "  y = column_or_1d(y, warn=True)\n"
     ]
    }
   ],
   "source": [
    "svm_classifier.fit(X_train, y_train)"
   ]
  },
  {
   "cell_type": "code",
   "execution_count": null,
   "id": "93c2a289",
   "metadata": {},
   "outputs": [],
   "source": [
    "y_pred = svm_classifier.predict(X_test)\n",
    "\n",
    "# Calculate and print the accuracy of the model\n",
    "accuracy = accuracy_score(y_test, y_pred)\n",
    "print(\"Accuracy:\", accuracy)"
   ]
  },
  {
   "cell_type": "code",
   "execution_count": null,
   "id": "eadf3038",
   "metadata": {},
   "outputs": [],
   "source": []
  }
 ],
 "metadata": {
  "kernelspec": {
   "display_name": "Python 3 (ipykernel)",
   "language": "python",
   "name": "python3"
  },
  "language_info": {
   "codemirror_mode": {
    "name": "ipython",
    "version": 3
   },
   "file_extension": ".py",
   "mimetype": "text/x-python",
   "name": "python",
   "nbconvert_exporter": "python",
   "pygments_lexer": "ipython3",
   "version": "3.9.13"
  }
 },
 "nbformat": 4,
 "nbformat_minor": 5
}
